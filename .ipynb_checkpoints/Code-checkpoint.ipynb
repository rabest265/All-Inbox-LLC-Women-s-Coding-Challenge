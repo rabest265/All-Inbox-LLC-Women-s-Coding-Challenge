{
 "cells": [
  {
   "cell_type": "code",
   "execution_count": 1,
   "metadata": {},
   "outputs": [],
   "source": [
    "# Import dependencies\n",
    "import os\n",
    "import pandas as pd"
   ]
  },
  {
   "cell_type": "code",
   "execution_count": 2,
   "metadata": {},
   "outputs": [],
   "source": [
    "# Create location of the input and output files\n",
    "in_path = os.path.join(\"Resources\",\"mbox.full\")\n",
    "out_path = os.path.join(\"Output\",\"output.full\")"
   ]
  },
  {
   "cell_type": "code",
   "execution_count": 3,
   "metadata": {},
   "outputs": [],
   "source": [
    "# Read the mbox.full file and save it into a list labeled full_text\n",
    "text_file = open(in_path, \"r\")\n",
    "full_text = text_file.readlines()\n",
    "text_file.close()"
   ]
  },
  {
   "cell_type": "code",
   "execution_count": 4,
   "metadata": {},
   "outputs": [
    {
     "name": "stdout",
     "output_type": "stream",
     "text": [
      "16\n"
     ]
    }
   ],
   "source": [
    "# Count the number of emails\n",
    "email_numb = 0\n",
    "for row in full_text:\n",
    "    if \"From \" in row:\n",
    "        email_numb += 1\n",
    "print (email_numb)"
   ]
  },
  {
   "cell_type": "code",
   "execution_count": 5,
   "metadata": {},
   "outputs": [
    {
     "name": "stdout",
     "output_type": "stream",
     "text": [
      "{0: [], 1: [], 2: [], 3: [], 4: [], 5: [], 6: [], 7: [], 8: [], 9: [], 10: [], 11: [], 12: [], 13: [], 14: [], 15: []}\n"
     ]
    }
   ],
   "source": [
    "# Create an empty dictionary of the emails\n",
    "emails = {}\n",
    "for email in range (0,email_numb):\n",
    "    emails[email] = []\n",
    "print (emails)"
   ]
  },
  {
   "cell_type": "code",
   "execution_count": 7,
   "metadata": {},
   "outputs": [
    {
     "name": "stdout",
     "output_type": "stream",
     "text": [
      "['From nobody Mon Sep 17 00:00:00 2001\\n', 'From: A U Thor <a.u.thor@example.com>\\n', 'Subject: check bogus body header (date)\\n', 'Date: Fri, 9 Jun 2006 00:44:16 -0700\\n', '\\n', 'Date: bogus\\n', '\\n', 'and some content\\n', '\\n', '---\\n', 'diff --git a/foo b/foo\\n', 'index e69de29..d95f3ad 100644\\n', '--- a/foo\\n', '+++ b/foo\\n', '@@ -0,0 +1 @@\\n', '+content\\n', '\\n', 'From nobody Mon Sep 17 00:00:00 2001\\n', 'From: A U Thor <a.u.thor@example.com>\\n', 'Subject: check bogus body header (date)\\n', 'Date: Fri, 9 Jun 2006 00:44:16 -0700\\n', '\\n', 'Date: bogus\\n', '\\n', 'and some content\\n', '\\n', '---\\n', 'diff --git a/foo b/foo\\n', 'index e69de29..d95f3ad 100644\\n', '--- a/foo\\n', '+++ b/foo\\n', '@@ -0,0 +1 @@\\n', '+content\\n', '\\n']\n"
     ]
    }
   ],
   "source": [
    "# Create the dictionary of emails using the rows of the full_text\n",
    "email_numb = -1\n",
    "for row in full_text:\n",
    "    if \"From \" in row:\n",
    "        email_numb += 1\n",
    "    emails[email_numb].append (row)\n",
    "print(emails [15])"
   ]
  },
  {
   "cell_type": "code",
   "execution_count": null,
   "metadata": {},
   "outputs": [],
   "source": []
  }
 ],
 "metadata": {
  "anaconda-cloud": {},
  "kernelspec": {
   "display_name": "Python 3",
   "language": "python",
   "name": "python3"
  },
  "language_info": {
   "codemirror_mode": {
    "name": "ipython",
    "version": 3
   },
   "file_extension": ".py",
   "mimetype": "text/x-python",
   "name": "python",
   "nbconvert_exporter": "python",
   "pygments_lexer": "ipython3",
   "version": "3.7.1"
  }
 },
 "nbformat": 4,
 "nbformat_minor": 2
}
