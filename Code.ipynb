{
 "cells": [
  {
   "cell_type": "code",
   "execution_count": 1,
   "metadata": {},
   "outputs": [],
   "source": [
    "# Import dependencies\n",
    "import os\n",
    "import pandas as pd"
   ]
  },
  {
   "cell_type": "code",
   "execution_count": 2,
   "metadata": {},
   "outputs": [],
   "source": [
    "# Create location of the input and output files\n",
    "in_path = os.path.join(\"Resources\",\"mbox.full\")\n",
    "# in_path = os.path.join(\"Resources\",\"mbox_example\")\n",
    "out_path = os.path.join(\"Output\",\"output.full\")"
   ]
  },
  {
   "cell_type": "code",
   "execution_count": 3,
   "metadata": {},
   "outputs": [],
   "source": [
    "# Read the mbox.full file and save it into a list labeled full_text\n",
    "text_file = open(in_path, \"r\")\n",
    "full_text = text_file.readlines()\n",
    "text_file.close()"
   ]
  },
  {
   "cell_type": "code",
   "execution_count": 4,
   "metadata": {},
   "outputs": [
    {
     "name": "stdout",
     "output_type": "stream",
     "text": [
      "16\n"
     ]
    }
   ],
   "source": [
    "# Count the number of emails\n",
    "email_numb = 0\n",
    "for row in full_text:\n",
    "    if \"From \" in row:\n",
    "        email_numb += 1\n",
    "print (email_numb)"
   ]
  },
  {
   "cell_type": "code",
   "execution_count": 5,
   "metadata": {},
   "outputs": [
    {
     "name": "stdout",
     "output_type": "stream",
     "text": [
      "{0: [], 1: [], 2: [], 3: [], 4: [], 5: [], 6: [], 7: [], 8: [], 9: [], 10: [], 11: [], 12: [], 13: [], 14: [], 15: []}\n"
     ]
    }
   ],
   "source": [
    "# Create an empty dictionary of the current emails and the new version of the emails\n",
    "emails = {}\n",
    "for email in range (0,email_numb):\n",
    "    emails[email] = []\n",
    "print (emails)"
   ]
  },
  {
   "cell_type": "code",
   "execution_count": 6,
   "metadata": {},
   "outputs": [
    {
     "name": "stdout",
     "output_type": "stream",
     "text": [
      "['From nobody Mon Sep 17 00:00:00 2001\\n', 'From: A (zzz)\\n', '      U\\n', '      Thor\\n', '      <a.u.thor@example.com> (Comment)\\n', 'Date: Fri, 9 Jun 2006 00:44:16 -0700\\n', 'Subject: [PATCH] a commit.\\n', '\\n', 'Here is a patch from A U Thor.\\n', '\\n', '---\\n', ' foo |    2 +-\\n', ' 1 files changed, 1 insertions(+), 1 deletions(-)\\n', '\\n', 'diff --git a/foo b/foo\\n', 'index 9123cdc..918dcf8 100644\\n', '--- a/foo\\n', '+++ b/foo\\n', '@@ -1 +1 @@\\n', '-Fri Jun  9 00:44:04 PDT 2006\\n', '+Fri Jun  9 00:44:13 PDT 2006\\n', '-- \\n', '1.4.0.g6f2b\\n', '\\n']\n"
     ]
    }
   ],
   "source": [
    "# Create the dictionary of emails using the rows of the full_text\n",
    "email_count = -1\n",
    "for row in full_text:\n",
    "    if \"From \" in row:\n",
    "        email_count += 1\n",
    "    emails[email_count].append (row)\n",
    "print(emails [0])"
   ]
  },
  {
   "cell_type": "code",
   "execution_count": 7,
   "metadata": {},
   "outputs": [
    {
     "name": "stdout",
     "output_type": "stream",
     "text": [
      "[8, 5, 5, 19, 19, 55, 5, 5, 7, 8, 7, 15, 5, 5, 5, 5]\n"
     ]
    }
   ],
   "source": [
    "# Create an empty list to store the # of header rows\n",
    "headers = []\n",
    "# go through each email and return the row number of the row with the Subject line\n",
    "for email in emails:\n",
    "    header_count = 0\n",
    "    # Added a check to make sure it is the first blank line in the email\n",
    "    check = False \n",
    "    #Iterate through every row of the email\n",
    "    for row in emails[email]:\n",
    "        header_count += 1\n",
    "        if row == '\\n' and check == False:\n",
    "            headers.append (header_count)\n",
    "            check = True\n",
    "print (headers)"
   ]
  },
  {
   "cell_type": "code",
   "execution_count": 8,
   "metadata": {},
   "outputs": [
    {
     "name": "stdout",
     "output_type": "stream",
     "text": [
      "['From nobody Mon Sep 17 00:00:00 2001\\n', 'From: A (zzz)\\n', '      U\\n', '      Thor\\n', '      <a.u.thor@example.com> (Comment)\\n', 'Date: Fri, 9 Jun 2006 00:44:16 -0700\\n', 'Subject: [PATCH] a commit.\\n', '\\n', '+Fri Jun  9 00:44:13 PDT 2006\\n', '-Fri Jun  9 00:44:04 PDT 2006\\n', '@@ -1 +1 @@\\n', '+++ b/foo\\n', '--- a/foo\\n', 'index 9123cdc..918dcf8 100644\\n', 'diff --git a/foo b/foo\\n', '\\n', ' 1 files changed, 1 insertions(+), 1 deletions(-)\\n', ' foo |    2 +-\\n', '---\\n', '\\n', 'Here is a patch from A U Thor.\\n', '-- \\n', '1.4.0.g6f2b\\n', '\\n', 'From nobody Mon Sep 17 00:00:00 2001\\n', 'From: A U Thor <a.u.thor@example.com>\\n', 'Date: Fri, 9 Jun 2006 00:44:16 -0700\\n', 'Subject: [PATCH] another patch\\n', '\\n', '+Fri Jun  9 00:44:13 PDT 2006\\n', '-Fri Jun  9 00:44:04 PDT 2006\\n', '@@ -1 +1 @@\\n', '+++ b/foo\\n', '--- a/foo\\n', 'index 9123cdc..918dcf8 100644\\n', 'diff --git a/foo b/foo\\n', '\\n', ' 1 files changed, 1 insertions(+), 1 deletions(-)\\n', ' foo |    2 +-\\n', '---\\n', '\\n', 'Hope this helps.\\n', '\\n', '            \\n', '\\n', 'two truly blank and another full of spaces in between.\\n', 'Also, there are three blank lines after this paragraph,\\n', 'when the message is made into a commit log by stripspace,\\n', 'whitespaces at the end of the above line.  They are expected to be squashed\\n', 'stripped away here, along with the               \\t\\t   \\n', 'I have included an extra blank line above, but it does not have to be\\n', '\\n', '\\n', 'Hopefully this would fix the problem stated there.\\n', '\\n', 'Message-Id: <nitpicker.12121212@example.net>\\n', 'Subject: foo is too old\\n', 'From: Nit Picker <nit.picker@example.net>\\n', '\\n', 'message:\\n', 'Here is a patch from A U Thor.  This addresses the issue raised in the\\n', '-- \\n', '1.4.0.g6f2b\\n', '\\n', 'From nobody Mon Sep 17 00:00:00 2001\\n', 'From: Junio C Hamano <junio@kernel.org>\\n', 'Date: Fri, 9 Jun 2006 00:44:16 -0700\\n', 'Subject: re: [PATCH] another patch\\n', '\\n', '+Fri Jun  9 00:44:13 PDT 2006\\n', '-Fri Jun  9 00:44:04 PDT 2006\\n', '@@ -1 +1 @@\\n', '+++ b/foo\\n', '--- a/foo\\n', 'index 9123cdc..918dcf8 100644\\n', 'diff --git a/foo b/foo\\n', '\\n', ' 1 files changed, 1 insertions(+), 1 deletions(-)\\n', ' foo |    2 +-\\n', '---\\n', '\\n', 'Hopefully this would fix the problem stated there.\\n', '\\n', 'Message-Id: <nitpicker.12121212@example.net>\\n', 'Subject: foo is too old\\n', 'From: Nit Picker <nit.picker@example.net>\\n', '\\n', 'message:\\n', 'Here is a patch from A U Thor.  This addresses the issue raised in the\\n', '\\n', 'Subject: [PATCH] third patch\\n', 'From: A U Thor <a.u.thor@example.com>\\n', '-- \\n', '1.4.0.g6f2b\\n', '\\n', 'From nobody Sat Aug 27 23:07:49 2005\\n', 'Path: news.gmane.org!not-for-mail\\n', 'Message-ID: <20050721.091036.01119516.yoshfuji@linux-ipv6.org>\\n', 'From: YOSHIFUJI Hideaki / =?ISO-2022-JP?B?GyRCNUhGIzFRTEAbKEI=?= \\n', '\\t<yoshfuji@linux-ipv6.org>\\n', 'Newsgroups: gmane.comp.version-control.git\\n', 'Subject: [PATCH 1/2] GIT: Try all addresses for given remote name\\n', 'Date: Thu, 21 Jul 2005 09:10:36 -0400 (EDT)\\n', 'Lines: 99\\n', 'Organization: USAGI/WIDE Project\\n', 'Approved: news@gmane.org\\n', 'NNTP-Posting-Host: main.gmane.org\\n', 'Mime-Version: 1.0\\n', 'Content-Type: Text/Plain; charset=us-ascii\\n', 'Content-Transfer-Encoding: 7bit\\n', 'X-Trace: sea.gmane.org 1121951434 29350 80.91.229.2 (21 Jul 2005 13:10:34 GMT)\\n', 'X-Complaints-To: usenet@sea.gmane.org\\n', 'NNTP-Posting-Date: Thu, 21 Jul 2005 13:10:34 +0000 (UTC)\\n', '\\n', '-- \\n', '\\n', ' \\tpacket_write(sockfd, \"%s %s\\\\n\", prog, path);\\n', ' \\tfd[1] = sockfd;\\n', ' \\tfd[0] = sockfd;\\n', '+\\n', '-\\t\\tdie(\"unable to connect (%s)\", strerror(errno));\\n', '-\\tif (connect(sockfd, (void *)&addr, sizeof(addr)) < 0)\\n', ' \\t\\tdie(\"unable to create socket (%s)\", strerror(errno));\\n', ' \\tif (sockfd < 0)\\n', '-\\tsockfd = socket(PF_INET, SOCK_STREAM, IPPROTO_IP);\\n', ' \\n', '+\\tfreeaddrinfo(ai0);\\n', '-\\t((struct sockaddr_in *)&addr)->sin_port = htons(port);\\n', '-\\tlookup_host(host, &addr);\\n', ' \\n', ' \\t}\\n', '+\\t\\tbreak;\\n', ' \\t\\t}\\n', '+\\t\\t\\tcontinue;\\n', '+\\t\\t\\tsockfd = -1;\\n', '+\\t\\t\\tclose(sockfd);\\n', '+\\t\\tif (connect(sockfd, ai->ai_addr, ai->ai_addrlen) < 0) {\\n', '+\\t\\t\\tcontinue;\\n', '+\\t\\tif (sockfd < 0)\\n', '+\\t\\tsockfd = socket(ai->ai_family, ai->ai_socktype, ai->ai_protocol);\\n', '+\\tfor (ai0 = ai; ai; ai = ai->ai_next) {\\n', '+\\n', '+\\t\\tdie(\"Unable to look up %s (%s)\", host, gai_strerror(gai));\\n', '+\\tif (gai)\\n', '+\\tgai = getaddrinfo(host, port, &hints, &ai);\\n', '+\\n', '+\\thints.ai_protocol = IPPROTO_TCP;\\n', '+\\thints.ai_socktype = SOCK_STREAM;\\n', '+\\tmemset(&hints, 0, sizeof(hints));\\n', '+\\n', '+\\t\\tport = colon + 1;\\n', '+\\tif (colon)\\n', '+\\n', \"+\\tcolon = strchr(end, ':');\\n\", '+\\t\\tend = host;\\n', '+\\t} else\\n', '+\\t\\t\\tend = host;\\n', '+\\t\\t} else\\n', '+\\t\\t\\thost++;\\n', '+\\t\\t\\tend++;\\n', '+\\t\\t\\t*end = 0;\\n', '+\\t\\tif (end) {\\n', \"+\\t\\tend = strchr(host + 1, ']');\\n\", \"+\\tif (host[0] == '[') {\\n\", '+\\n', '+\\tint gai;\\n', '+\\tstruct addrinfo hints, *ai0, *ai;\\n', '+\\tchar *port = STR(DEFAULT_GIT_PORT);\\n', '+\\tchar *colon, *end;\\n', '+\\tint sockfd = -1;\\n', '-\\t\\t\\tport = n;\\n', '-\\t\\t\\t*colon = 0;\\n', '-\\t\\tif (colon[1] && !*end) {\\n', '-\\t\\tunsigned long n = strtoul(colon+1, &end, 0);\\n', '-\\t\\tchar *end;\\n', '-\\tif (colon) {\\n', \"-\\tcolon = strchr(host, ':');\\n\", '-\\n', '-\\tchar *colon;\\n', '-\\tint port = DEFAULT_GIT_PORT, sockfd;\\n', '-\\tstruct sockaddr addr;\\n', ' {\\n', ' static int git_tcp_connect(int fd[2], const char *prog, char *host, char *path)\\n', ' \\n', '+#define STR(s)\\tSTR_(s)\\n', '+#define STR_(s)\\t# s\\n', '-}\\n', '-\\tfreeaddrinfo(res);\\n', '-\\t*in = *res->ai_addr;\\n', '-\\t\\tdie(\"Unable to look up %s (%s)\", host, gai_strerror(ret));\\n', '-\\tif (ret)\\n', '-\\tret = getaddrinfo(host, NULL, NULL, &res);\\n', '-\\n', '-\\tint ret;\\n', '-\\tstruct addrinfo *res;\\n', '-{\\n', '-static void lookup_host(const char *host, struct sockaddr *in)\\n', ' \\n', ' }\\n', ' \\tdie(\"I don\\'t handle protocol \\'%s\\'\", name);\\n', '@@ -96,42 +96,57 @@ static enum protocol get_protocol(const \\n', '+++ b/connect.c\\n', '--- a/connect.c\\n', 'diff --git a/connect.c b/connect.c\\n', '\\n', 'Signed-of-by: Hideaki YOSHIFUJI <yoshfuji@linux-ipv6.org>\\n', '\\n', 'Also supports IPv6.\\n', 'Try all addresses for given remote name until it succeeds.\\n', '\\n', 'Hello.\\n', 'YOSHIFUJI Hideaki @ USAGI Project  <yoshfuji@linux-ipv6.org>\\n', 'GPG-FP  : 9022 65EB 1ECF 3AD1 0BDF  80D8 4807 F894 E062 0EEA\\n', '\\n', 'From nobody Sat Aug 27 23:07:49 2005\\n', 'Path: news.gmane.org!not-for-mail\\n', 'Message-ID: <u5tacjjdpxq.fsf@lysator.liu.se>\\n', 'From: =?ISO8859-1?Q?David_K=E5gedal?= <davidk@lysator.liu.se>\\n', 'Newsgroups: gmane.comp.version-control.git\\n', 'Subject: [PATCH] Fixed two bugs in git-cvsimport-script.\\n', 'Date: Mon, 15 Aug 2005 20:18:25 +0200\\n', 'Lines: 83\\n', 'Approved: news@gmane.org\\n', 'NNTP-Posting-Host: main.gmane.org\\n', 'Mime-Version: 1.0\\n', 'Content-Type: text/plain; charset=ISO8859-1\\n', 'Content-Transfer-Encoding: QUOTED-PRINTABLE\\n', 'X-Trace: sea.gmane.org 1124130247 31839 80.91.229.2 (15 Aug 2005 18:24:07 GMT)\\n', 'X-Complaints-To: usenet@sea.gmane.org\\n', 'NNTP-Posting-Date: Mon, 15 Aug 2005 18:24:07 +0000 (UTC)\\n', 'Cc: \"Junio C. Hamano\" <junkio@cox.net>\\n', 'Original-X-From: git-owner@vger.kernel.org Mon Aug 15 20:24:05 2005\\n', '\\n', 'To unsubscribe from this list: send the line \"unsubscribe git\" in\\n', '-\\n', 'David K=E5gedal\\n', '--=20\\n', '\\n', ' \\t\\tpush(@old,$fn);\\n', ' \\t\\t$fn =3D~ s#^/+##;\\n', ' \\t\\tmy $fn =3D $1;\\n', '\\\\(DEAD\\\\)\\\\s*$/) {\\n', '+\\t} elsif($state =3D=3D 9 and /^\\\\s+(\\\\S+):\\\\d+(?:\\\\.\\\\d+)+->(\\\\d+(?:\\\\.\\\\d+)+)=\\n', 'DEAD\\\\)\\\\s*$/) {\\n', '-\\t} elsif($state =3D=3D 9 and /^\\\\s+(\\\\S+):\\\\d(?:\\\\.\\\\d+)+->(\\\\d(?:\\\\.\\\\d+)+)\\\\(=\\n', ' \\t\\tpush(@new,[$mode, $sha, $fn]); # may be resurrected!\\n', \" \\t\\tmy $mode =3D pmode($cvs->{'mode'});\\n\", ' \\t\\tunlink($tmpname);\\n', '@@ -691,7 +691,7 @@ while(<CVS>) {\\n', \" \\t$self->{'socketo'}->flush();\\n\", ' \\t$self->{\\'socketo\\'}->write(\"valid-requests\\\\n\");\\n', '=20\\n', 'de M Mbinary E Checked-in Created Updated Merged Removed\\\\n\");\\n', '+\\t$self->{\\'socketo\\'}->write(\"Valid-responses ok error Valid-requests Mo=\\n', 'de M Mbinary E F Checked-in Created Updated Merged Removed\\\\n\");\\n', '-\\t$self->{\\'socketo\\'}->write(\"Valid-responses ok error Valid-requests Mo=\\n', ' \\t# Trial and error says that this probably is the minimum set\\n', '=20\\n', ' \\t$self->{\\'socketo\\'}->write(\"Root $repo\\\\n\");\\n', '@@ -190,7 +190,7 @@ sub conn {\\n', '+++ b/git-cvsimport-script\\n', '--- a/git-cvsimport-script\\n', 'diff --git a/git-cvsimport-script b/git-cvsimport-script\\n', \" If '-v' is specified, the script reports what it is doing.\\n\", ' ------\\n', ' OUTPUT\\n', '+\\n', '+        Pass the timestamp fuzz factor to cvsps.\\n', '+-z <fuzz>::\\n', '=20\\n', ' \\tPrint a short usage message and exit.\\n', ' -h::\\n', '@@ -57,6 +61,9 @@ OPTIONS\\n', '=20\\n', ' \\tIf you need to pass multiple options, separate them with a comma.\\n', '=20\\n', \"+\\tThe options '-u' and '-A' are implicit and should not be used here.\\n\", \"-\\tThe options '-x' and '-A' are implicit and should not be used here.\\n\", ' \\tAdditional options for cvsps.\\n', ' -p <options-for-cvsps>::\\n', '=20\\n', '@@ -44,7 +48,7 @@ OPTIONS\\n', ' \\tensures the working directory and cache remain untouched and will\\n', \" \\tImport-only: don't perform a checkout after importing.  This option\\n\", ' -i::\\n', '+\\n', '+        exist, it will be created.  Default is the current directory.\\n', \"+        The GIT repository to import to.  If the directory doesn't\\n\", '+-C <target-dir>::\\n', '=20\\n', ' \\tare supported.\\n', ' \\tcurrently, only the :local:, :ext: and :pserver: access methods=20\\n', '@@ -29,6 +29,10 @@ OPTIONS\\n', '+++ b/Documentation/git-cvsimport-script.txt\\n', '--- a/Documentation/git-cvsimport-script.txt\\n', '-cvsimport-script.txt\\n', 'diff --git a/Documentation/git-cvsimport-script.txt b/Documentation/git=\\n', '50452f9c0c2df1f04d83a26266ba704b13861632\\n', '\\n', ' 2 files changed, 10 insertions(+), 3 deletions(-)\\n', ' git-cvsimport-script                   |    4 ++--\\n', ' Documentation/git-cvsimport-script.txt |    9 ++++++++-\\n', '\\n', '---\\n', 'Signed-off-by: David K=E5gedal <davidk@lysator.liu.se>\\n', '\\n', 'actual flags.\\n', 'I also updated the documentation for that script to correspond to\\n', '\\n', 'although they were not handled.\\n', 'The second was that it was asking the CVS server for \"F\" messages,\\n', '\\n', 'primary revision number.\\n', \"The first was that it didn't handle removed files with a multi-digit\\n\", '\\n', 'from importing a big CVS repository.\\n', 'The git-cvsimport-script had a copule of small bugs that prevented me\\n', 'the body of a message to majordomo@vger.kernel.org\\n', 'More majordomo info at  http://vger.kernel.org/majordomo-info.html\\n', '\\n', 'From nobody Mon Sep 17 00:00:00 2001\\n', 'From: A U Thor <a.u.thor@example.com>\\n', 'References: <Pine.LNX.4.640.0001@woody.linux-foundation.org>\\n', ' <Pine.LNX.4.640.0002@woody.linux-foundation.org>\\n', ' <Pine.LNX.4.640.0003@woody.linux-foundation.org>\\n', ' <Pine.LNX.4.640.0004@woody.linux-foundation.org>\\n', ' <Pine.LNX.4.640.0005@woody.linux-foundation.org>\\n', ' <Pine.LNX.4.640.0006@woody.linux-foundation.org>\\n', ' <Pine.LNX.4.640.0007@woody.linux-foundation.org>\\n', ' <Pine.LNX.4.640.0008@woody.linux-foundation.org>\\n', ' <Pine.LNX.4.640.0009@woody.linux-foundation.org>\\n', ' <Pine.LNX.4.640.0010@woody.linux-foundation.org>\\n', ' <Pine.LNX.4.640.0011@woody.linux-foundation.org>\\n', ' <Pine.LNX.4.640.0012@woody.linux-foundation.org>\\n', ' <Pine.LNX.4.640.0013@woody.linux-foundation.org>\\n', ' <Pine.LNX.4.640.0014@woody.linux-foundation.org>\\n', ' <Pine.LNX.4.640.0015@woody.linux-foundation.org>\\n', ' <Pine.LNX.4.640.0016@woody.linux-foundation.org>\\n', ' <Pine.LNX.4.640.0017@woody.linux-foundation.org>\\n', ' <Pine.LNX.4.640.0018@woody.linux-foundation.org>\\n', ' <Pine.LNX.4.640.0019@woody.linux-foundation.org>\\n', ' <Pine.LNX.4.640.0020@woody.linux-foundation.org>\\n', ' <Pine.LNX.4.640.0021@woody.linux-foundation.org>\\n', ' <Pine.LNX.4.640.0022@woody.linux-foundation.org>\\n', ' <Pine.LNX.4.640.0023@woody.linux-foundation.org>\\n', ' <Pine.LNX.4.640.0024@woody.linux-foundation.org>\\n', ' <Pine.LNX.4.640.0025@woody.linux-foundation.org>\\n', ' <Pine.LNX.4.640.0026@woody.linux-foundation.org>\\n', ' <Pine.LNX.4.640.0027@woody.linux-foundation.org>\\n', ' <Pine.LNX.4.640.0028@woody.linux-foundation.org>\\n', ' <Pine.LNX.4.640.0029@woody.linux-foundation.org>\\n', ' <Pine.LNX.4.640.0030@woody.linux-foundation.org>\\n', ' <Pine.LNX.4.640.0031@woody.linux-foundation.org>\\n', ' <Pine.LNX.4.640.0032@woody.linux-foundation.org>\\n', ' <Pine.LNX.4.640.0033@woody.linux-foundation.org>\\n', ' <Pine.LNX.4.640.0034@woody.linux-foundation.org>\\n', ' <Pine.LNX.4.640.0035@woody.linux-foundation.org>\\n', ' <Pine.LNX.4.640.0036@woody.linux-foundation.org>\\n', ' <Pine.LNX.4.640.0037@woody.linux-foundation.org>\\n', ' <Pine.LNX.4.640.0038@woody.linux-foundation.org>\\n', ' <Pine.LNX.4.640.0039@woody.linux-foundation.org>\\n', ' <Pine.LNX.4.640.0040@woody.linux-foundation.org>\\n', ' <Pine.LNX.4.640.0041@woody.linux-foundation.org>\\n', ' <Pine.LNX.4.640.0042@woody.linux-foundation.org>\\n', ' <Pine.LNX.4.640.0043@woody.linux-foundation.org>\\n', ' <Pine.LNX.4.640.0044@woody.linux-foundation.org>\\n', ' <Pine.LNX.4.640.0045@woody.linux-foundation.org>\\n', ' <Pine.LNX.4.640.0046@woody.linux-foundation.org>\\n', ' <Pine.LNX.4.640.0047@woody.linux-foundation.org>\\n', ' <Pine.LNX.4.640.0048@woody.linux-foundation.org>\\n', ' <Pine.LNX.4.640.0049@woody.linux-foundation.org>\\n', ' <Pine.LNX.4.640.0050@woody.linux-foundation.org>\\n', 'Date: Fri, 9 Jun 2006 00:44:16 -0700\\n', 'Subject: [PATCH] a commit.\\n', '\\n', '+Fri Jun  9 00:44:13 PDT 2006\\n', '-Fri Jun  9 00:44:04 PDT 2006\\n', '@@ -1 +1 @@\\n', '+++ b/foo\\n', '--- a/foo\\n', 'index 9123cdc..918dcf8 100644\\n', 'diff --git a/foo b/foo\\n', '\\n', ' 1 files changed, 1 insertions(+), 1 deletions(-)\\n', ' foo |    2 +-\\n', '---\\n', '\\n', 'Here is a patch from A U Thor.\\n', '-- \\n', '1.4.0.g6f2b\\n', '\\n', 'From nobody Mon Sep 17 00:00:00 2001\\n', 'From: A U Thor <a.u.thor@example.com>\\n', 'Date: Fri, 9 Jun 2006 00:44:16 -0700\\n', 'Subject: [PATCH] another patch\\n', '\\n', '\\n', 'Here is an empty patch from A U Thor.\\n', '\\n', 'From nobody Mon Sep 17 00:00:00 2001\\n', 'From: Junio C Hamano <junio@kernel.org>\\n', 'Date: Fri, 9 Jun 2006 00:44:16 -0700\\n', 'Subject: re: [PATCH] another patch\\n', '\\n', '>Here is an empty patch from A U Thor.\\n', 'Subject: [PATCH] another patch\\n', 'From: A U Thor <a.u.thor@example.com>\\n', '\\n', 'Hey you forgot the patch!\\n', '\\n', 'From nobody Mon Sep 17 00:00:00 2001\\n', 'From: A U Thor <a.u.thor@example.com>\\n', 'Date: Mon, 17 Sep 2001 00:00:00 +0900\\n', 'Mime-Version: 1.0\\n', 'Content-Type: Text/Plain; charset=us-ascii\\n', 'Content-Transfer-Encoding: Quoted-Printable\\n', '\\n', '+      GIT_DIFF_OPTS=3D-c git-diff-index -p HEAD\\n', '-      GIT_DIFF_OPTS=3D-c git-diff-index -p $(cat .git/HEAD)\\n', '=20\\n', ' prefer context diff:\\n', \" environment variable 'GIT_DIFF_OPTS'.  For example, if you\\n\", '@@ -81,7 +81,7 @@ The \"diff\" formatting options can be customized via the\\n', '+++ b/Documentation/diff-format.txt\\n', '--- a/Documentation/diff-format.txt\\n', 'index b426a14..97756ec 100644\\n', 'diff --git a/Documentation/diff-format.txt b/Documentation/diff-format.txt\\n', '\\n', 'Subject: [PATCH] updates=0A=0AThis is to fix diff-format documentation.\\n', '=0A=0AFrom: F U Bar <f.u.bar@example.com>\\n', '=20\\n', '=20\\n', \" 2. When the environment variable 'GIT_EXTERNAL_DIFF' is set, the\\n\", 'From b9704a518e21158433baa2cc2d591fea687967f6 Mon Sep 17 00:00:00 2001\\n', 'From: =?UTF-8?q?Lukas=20Sandstr=C3=B6m?= <lukass@etek.chalmers.se>\\n', 'Date: Thu, 10 Jul 2008 23:41:33 +0200\\n', 'Subject: Re: discussion that lead to this patch\\n', 'MIME-Version: 1.0\\n', 'Content-Type: text/plain; charset=UTF-8\\n', 'Content-Transfer-Encoding: 8bit\\n', '\\n', ' \\t\\t\\t\\t}\\n', ' \\t\\t\\t\\t\\treturn 1;\\n', ' \\t\\t\\t\\tif (! handle_header(line, hdr_data[i], 0)) {\\n', '+\\t\\t\\tif (!memcmp(\"Subject\", header[i], 7)) {\\n', '-\\t\\t\\tif (!memcmp(\"Subject: \", header[i], 9)) {\\n', ' \\t\\tfor (i = 0; header[i]; i++) {\\n', ' \\tif (!memcmp(\"[PATCH]\", line, 7) && isspace(line[7])) {\\n', ' \\t\\treturn 1;\\n', '@@ -334,7 +334,7 @@ static int check_header(char *line, unsigned linesize, char **hdr_data, int over\\n', '+++ b/builtin-mailinfo.c\\n', '--- a/builtin-mailinfo.c\\n', 'index 962aa34..2d1520f 100644\\n', 'diff --git a/builtin-mailinfo.c b/builtin-mailinfo.c\\n', '\\n', ' 1 files changed, 1 insertions(+), 1 deletions(-)\\n', ' builtin-mailinfo.c |    2 +-\\n', '---\\n', 'Signed-off-by: Junio C Hamano <gitster@pobox.com>\\n', 'Signed-off-by: Lukas Sandström <lukass@etek.chalmers.se>\\n', '\\n', 'memcmp(\"Subject: \", header[i], 7) will never match.\\n', '\"Subject: \" isn\\'t in the static array \"header\", and thus\\n', '\\n', '[PATCH] git-mailinfo: Fix getting the subject from the body\\n', '-- \\n', '1.5.6.2.455.g1efb2\\n', '\\n', 'From nobody Fri Aug  8 22:24:03 2008\\n', 'Date: Fri, 8 Aug 2008 13:08:37 +0200 (CEST)\\n', 'From: A U Thor <a.u.thor@example.com>\\n', 'Subject: [PATCH 3/3 v2] Xyzzy\\n', 'MIME-Version: 1.0\\n', 'Content-Type: multipart/mixed; boundary=\"=-=-=\"\\n', '\\n', '1.6.0.rc2\\n', '--=20\\n', ' \\t\\t\\t\\tgoto handle_body_out;\\n', ' \\t\\t\\tif (!handle_boundary())\\n', '=20\\n', '+\\t\\t\\t\\thandle_filter(&prev);\\n', '+\\t\\t\\tif (prev.len)\\n', '-\\t\\t\\t\\thandle_filter(&line);\\n', '-\\t\\t\\tif (line.len)\\n', ' \\t\\t\\t/* flush any leftover */\\n', ' \\t\\tif (*content_top && is_multipart_boundary(&line)) {\\n', ' \\t\\t/* process any boundary lines */\\n', '@@ -758,8 +758,8 @@ static void handle_body(void)\\n', '+++ b/builtin-mailinfo.c\\n', '--- a/builtin-mailinfo.c\\n', 'index 3e5fe51..aabfe5c 100644\\n', 'diff --git a/builtin-mailinfo.c b/builtin-mailinfo.c\\n', '\\n', ' builtin-mailinfo.c  |    4 ++--\\n', '---\\n', 'its second line is here.\\n', 'Here comes a commit log message, and\\n', '\\n', 'Content-Transfer-Encoding: quoted-printable\\n', 'Content-Type: text/plain; charset=ISO8859-15\\n', '--=-=-=\\n', '\\n', '--=-=-=--\\n', '\\n', 'From bda@mnsspb.ru Wed Nov 12 17:54:41 2008\\n', 'From: Dmitriy Blinov <bda@mnsspb.ru>\\n', 'To: navy-patches@dinar.mns.mnsspb.ru\\n', 'Date: Wed, 12 Nov 2008 17:54:41 +0300\\n', 'Message-Id: <1226501681-24923-1-git-send-email-bda@mnsspb.ru>\\n', 'X-Mailer: git-send-email 1.5.6.5\\n', 'MIME-Version: 1.0\\n', 'Content-Type: text/plain;\\n', '  charset=utf-8\\n', 'Content-Transfer-Encoding: 8bit\\n', 'Subject: [Navy-patches] [PATCH]\\n', '\\t=?utf-8?b?0JjQt9C80LXQvdGR0L0g0YHQv9C40YHQvtC6INC/0LA=?=\\n', '\\t=?utf-8?b?0LrQtdGC0L7QsiDQvdC10L7QsdGF0L7QtNC40LzRi9GFINC00LvRjyA=?=\\n', '\\t=?utf-8?b?0YHQsdC+0YDQutC4?=\\n', '\\n', ' #. на машине dinar: добавить свой открытый ssh-ключ в authorized_keys2 пользователя ddev\\n', ' \\n', '+   - python-docutils\\n', '-   - docutils\\n', '    - imagemagick\\n', '    - cython\\n', '    - sox\\n', '@@ -128,7 +128,7 @@\\n', '    - libtool\\n', '    - python-pyrex\\n', '    - dia\\n', '+   - texlive-latex-extra\\n', '+   - texlive-lang-cyrillic\\n', '-   - textlive-latex-extra\\n', '-   - textlive-lang-cyrillic\\n', '    - latex-make\\n', '    - libusplash-dev\\n', '    - libxv-dev\\n', '@@ -119,8 +119,8 @@\\n', '+++ b/howto/build_navy.txt\\n', '--- a/howto/build_navy.txt\\n', 'index 3fd3afb..0ee807e 100644\\n', 'diff --git a/howto/build_navy.txt b/howto/build_navy.txt\\n', '\\n', ' 1 files changed, 3 insertions(+), 3 deletions(-)\\n', ' howto/build_navy.txt |    6 +++---\\n', '---\\n', 'Signed-off-by: Dmitriy Blinov <bda@mnsspb.ru>\\n', '\\n', 'python-docutils. В то время как сам rest2web не нужен.\\n', 'Действительно, оказалось, что rest2web вытягивает за собой\\n', '\\n', 'docutils заменён на python-docutils\\n', 'textlive-* исправлены на texlive-*\\n', ' #. на своей машине: отредактировать /etc/sudoers (команда ``visudo``) примерно следующим образом::\\n', '-- \\n', '1.5.6.5\\n', 'From nobody Mon Sep 17 00:00:00 2001\\n', 'From: <a.u.thor@example.com> (A U Thor)\\n', 'Date: Fri, 9 Jun 2006 00:44:16 -0700\\n', 'Subject: [PATCH] a patch\\n', '\\n', 'Date: Fri, 9 Jun 2006 00:44:16 -0700\\n', 'Subject: [PATCH] a patch\\n', '\\n', 'From nobody Mon Sep 17 00:00:00 2001\\n', 'From: Junio Hamano <junkio@cox.net>\\n', 'Date: Thu, 20 Aug 2009 17:18:22 -0700\\n', \"Subject: Why doesn't git-am does not like >8 scissors mark?\\n\", '\\n', ' \\tif (metainfo_charset)\\n', ' \\t/* normalize the log message to UTF-8. */\\n', '+\\n', '+\\t}\\n', '+\\t\\treturn 0;\\n', '+\\t\\tstill_looking = 1;\\n', '+\\t\\tfseek(cmitmsg, 0L, SEEK_SET);\\n', '+\\tif (scissors(line)) {\\n', ' \\n', ' \\t}\\n', ' \\t\\t\\treturn 0;\\n', '+\\t\\tif (still_looking)\\n', '+\\t\\tstill_looking = check_header(line, s_hdr_data, 0);\\n', '-\\t\\tif ((still_looking = check_header(line, s_hdr_data, 0)) != 0)\\n', ' \\t\\t\\treturn 0;\\n', ' \\t\\tif (!line->len)\\n', ' \\t\\tstrbuf_ltrim(line);\\n', '@@ -723,10 +751,17 @@ static int handle_commit_msg(struct strbuf *line)\\n', ' \\tstatic int still_looking = 1;\\n', ' {\\n', ' static int handle_commit_msg(struct strbuf *line)\\n', '+\\n', '+}\\n', '+\\treturn scissors_dashes_seen == 03;\\n', '+\\t}\\n', '+\\t\\tbreak;\\n', '+\\t\\t/* everything else --- not scissors */\\n', '+\\t\\t}\\n', '+\\t\\t\\tcontinue;\\n', '+\\t\\t\\ti += 7;\\n', '+\\t\\tif (i + 7 < len && !memcmp(buf + i, \"cut here\", 8)) {\\n', '+\\t\\t}\\n', '+\\t\\t\\tcontinue;\\n', '+\\t\\t\\ti++;\\n', '+\\t\\t\\tscissors_dashes_seen |= 01;\\n', '+\\t\\tif (i + 1 < len && !memcmp(buf + i, \">8\", 2)) {\\n', '+\\t\\t}\\n', '+\\t\\t\\tcontinue;\\n', '+\\t\\t\\tscissors_dashes_seen |= 02;\\n', \"+\\t\\tif (buf[i] == '-') {\\n\", '+\\t\\t\\tcontinue;\\n', '+\\t\\tif (isspace(buf[i]))\\n', '+\\tfor (i = 0; i < len; i++) {\\n', '+\\n', '+\\tconst char *buf = line->buf;\\n', '+\\tint scissors_dashes_seen = 0;\\n', '+\\tsize_t i, len = line->len;\\n', '+{\\n', '+static int scissors(const struct strbuf *line)\\n', ' \\n', ' }\\n', ' \\treturn 0;\\n', '@@ -712,6 +712,34 @@ static inline int patchbreak(const struct strbuf *line)\\n', '+++ b/builtin-mailinfo.c\\n', '--- a/builtin-mailinfo.c\\n', 'index b0b5d8f..461c47e 100644\\n', 'diff --git a/builtin-mailinfo.c b/builtin-mailinfo.c\\n', '\\n', ' 1 files changed, 36 insertions(+), 1 deletions(-)\\n', ' builtin-mailinfo.c |   37 ++++++++++++++++++++++++++++++++++++-\\n', '---\\n', 'Signed-off-by: Junio C Hamano <gitster@pobox.com>\\n', '\\n', 'everything before it in the message body.\\n', 'This teaches mailinfo the scissors -- >8 -- mark; the command ignores\\n', '\\n', 'From: Junio C Hamano <gitster@pobox.com>\\n', 'Subject: [PATCH] Teach mailinfo to ignore everything before -- >8 -- mark\\n', '\\n', ' - - >8 - - please remove everything above this line - - >8 - -\\n', ' This line is not a scissors mark -- >8 -- but talks about it.\\n', '\\n', 'And then we will see the scissors.\\n', '\\n', 'Subject: [PATCH] BLAH TWO\\n', '\\n', 'in this part of the message.\\n', 'discussing related and unrelated things around >8 scissors mark\\n', 'In real life, we will see a discussion that inspired this patch\\n', '\\n', 'Subject: [PATCH] BLAH ONE\\n', ' \\t\\tconvert_to_utf8(line, charset.buf);\\n', '-- \\n', '1.6.4.1\\n', 'From nobody Mon Sep 17 00:00:00 2001\\n', 'From: A U Thor <a.u.thor@example.com>\\n', 'Subject: check bogus body header (from)\\n', 'Date: Fri, 9 Jun 2006 00:44:16 -0700\\n', '\\n', '+++ b/foo\\n', '--- a/foo\\n', 'index e69de29..d95f3ad 100644\\n', 'diff --git a/foo b/foo\\n', '---\\n', '  - of stuff\\n', '  - a list\\n', 'From: bogosity\\n', '@@ -0,0 +1 @@\\n', '+content\\n', '\\n', 'From nobody Mon Sep 17 00:00:00 2001\\n', 'From: A U Thor <a.u.thor@example.com>\\n', 'Subject: check bogus body header (date)\\n', 'Date: Fri, 9 Jun 2006 00:44:16 -0700\\n', '\\n', '@@ -0,0 +1 @@\\n', '+++ b/foo\\n', '--- a/foo\\n', 'index e69de29..d95f3ad 100644\\n', 'diff --git a/foo b/foo\\n', '---\\n', '\\n', 'and some content\\n', '\\n', 'Date: bogus\\n', '+content\\n', '\\n']\n"
     ]
    }
   ],
   "source": [
    "# Set up the new_full_text to hold the backwards text\n",
    "new_full_text =[]\n",
    "# Create some empty lists to temporarily store the emails both forward and backward\n",
    "email_forw = []\n",
    "\n",
    "# Run through the emails and store them forwards in the email_forw temporarily and then print them back backwards\n",
    "for email in emails:\n",
    "    # First we need the number of rows in each email\n",
    "    length = len(emails[email])    # If the it is the last email (email = email numb the ending is 2 rows instead of three)\n",
    "    # So we will set up conditional ending range\n",
    "    if email == email_numb-1:\n",
    "        end = 2\n",
    "    else:\n",
    "        end = 3\n",
    "    \n",
    "\n",
    "    # Go through each row of the email and put it into the temporary list\n",
    "    for row in emails[email]:\n",
    "        email_forw.append (row)\n",
    "    # First append all the header lines of code\n",
    "    for counter in range (0, headers[email]):\n",
    "        new_full_text.append (emails[email][counter])\n",
    "        \n",
    "    # Next append all the remaining lines of code backwards except the last three lines\n",
    "    for counter2 in range (end + 1, length - headers[email] + 1):\n",
    "        back_count = (length - counter2) # This will get us the backwards count\n",
    "        new_full_text.append (emails[email][back_count])\n",
    "    # Next append the last three lines\n",
    "    if end == 3: new_full_text.append (emails[email][length - 3])\n",
    "    new_full_text.append (emails[email][length - 2])\n",
    "    new_full_text.append (emails[email][length - 1])\n",
    "    # Reset the temp email list\n",
    "    email_forw = []\n",
    "    \n",
    "print (new_full_text)"
   ]
  },
  {
   "cell_type": "code",
   "execution_count": 9,
   "metadata": {},
   "outputs": [],
   "source": [
    "# Export the new_full_text and save it\n",
    "new_text_file = open(out_path, \"w\")\n",
    "for row in new_full_text:\n",
    "    new_text_file.write (row)\n",
    "new_text_file.close()"
   ]
  },
  {
   "cell_type": "code",
   "execution_count": null,
   "metadata": {},
   "outputs": [],
   "source": []
  }
 ],
 "metadata": {
  "anaconda-cloud": {},
  "kernelspec": {
   "display_name": "Python 3",
   "language": "python",
   "name": "python3"
  },
  "language_info": {
   "codemirror_mode": {
    "name": "ipython",
    "version": 3
   },
   "file_extension": ".py",
   "mimetype": "text/x-python",
   "name": "python",
   "nbconvert_exporter": "python",
   "pygments_lexer": "ipython3",
   "version": "3.7.1"
  }
 },
 "nbformat": 4,
 "nbformat_minor": 2
}
