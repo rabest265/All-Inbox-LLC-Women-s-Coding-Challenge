{
 "cells": [
  {
   "cell_type": "code",
   "execution_count": 1,
   "metadata": {},
   "outputs": [],
   "source": [
    "# Import dependencies\n",
    "import os\n",
    "import pandas as pd"
   ]
  },
  {
   "cell_type": "code",
   "execution_count": 2,
   "metadata": {},
   "outputs": [],
   "source": [
    "# Create location of the input and output files\n",
    "# in_path = os.path.join(\"Resources\",\"mbox.full\")\n",
    "in_path = os.path.join(\"Resources\",\"mbox_example\")\n",
    "out_path = os.path.join(\"Output\",\"output.full\")"
   ]
  },
  {
   "cell_type": "code",
   "execution_count": 3,
   "metadata": {},
   "outputs": [],
   "source": [
    "# Read the mbox.full file and save it into a list labeled full_text\n",
    "text_file = open(in_path, \"r\")\n",
    "full_text = text_file.readlines()\n",
    "text_file.close()"
   ]
  },
  {
   "cell_type": "code",
   "execution_count": 4,
   "metadata": {},
   "outputs": [
    {
     "name": "stdout",
     "output_type": "stream",
     "text": [
      "2\n"
     ]
    }
   ],
   "source": [
    "# Count the number of emails\n",
    "email_numb = 0\n",
    "for row in full_text:\n",
    "    if \"From \" in row:\n",
    "        email_numb += 1\n",
    "print (email_numb)"
   ]
  },
  {
   "cell_type": "code",
   "execution_count": 5,
   "metadata": {},
   "outputs": [
    {
     "name": "stdout",
     "output_type": "stream",
     "text": [
      "{0: [], 1: []}\n"
     ]
    }
   ],
   "source": [
    "# Create an empty dictionary of the current emails and the new version of the emails\n",
    "emails = {}\n",
    "for email in range (0,email_numb):\n",
    "    emails[email] = []\n",
    "print (emails)"
   ]
  },
  {
   "cell_type": "code",
   "execution_count": 6,
   "metadata": {},
   "outputs": [
    {
     "name": "stdout",
     "output_type": "stream",
     "text": [
      "['From nobody Man Sep 17 00:00:00 2001\\n', 'From: A (zzz)\\n', '      U\\n', '      Thor\\n', '      <a.u.thor@example.com> (Comment)\\n', 'Date: Fri, 9 Jun 2006 00:44:16 -0700\\n', 'Subject: [PATCH] a commit.\\n', '\\n', 'Here is a patch from A U Thor.\\n', '\\n', '---\\n', ' foo |    2 +-\\n', ' 1 files changed, 1 insertions(+), 1 deletions(-)\\n', '\\n', 'diff --git a/foo b/foo\\n', 'index 9123cdc..918dcf8 100644\\n', '--- a/foo\\n', '+++ b/foo\\n', '@@ -1 +1 @@\\n', '-Fri Jun  9 00:44:04 PDT 2006\\n', '+Fri Jun  9 00:44:13 PDT 2006\\n', '-- \\n', '1.4.0.g6f2b\\n', '\\n']\n"
     ]
    }
   ],
   "source": [
    "# Create the dictionary of emails using the rows of the full_text\n",
    "email_count = -1\n",
    "for row in full_text:\n",
    "    if \"From \" in row:\n",
    "        email_count += 1\n",
    "    emails[email_count].append (row)\n",
    "print(emails [0])"
   ]
  },
  {
   "cell_type": "code",
   "execution_count": 7,
   "metadata": {},
   "outputs": [
    {
     "name": "stdout",
     "output_type": "stream",
     "text": [
      "[8, 5]\n"
     ]
    }
   ],
   "source": [
    "# Create an empty list to store the # of header rows\n",
    "headers = []\n",
    "# go through each email and return the row number of the row with the Subject line\n",
    "for email in emails:\n",
    "    header_count = 0\n",
    "    # Added a check to make sure it is the first blank line in the email\n",
    "    check = False \n",
    "    #Iterate through every row of the email\n",
    "    for row in emails[email]:\n",
    "        header_count += 1\n",
    "        if row == '\\n' and check == False:\n",
    "            headers.append (header_count)\n",
    "            check = True\n",
    "print (headers)"
   ]
  },
  {
   "cell_type": "code",
   "execution_count": 8,
   "metadata": {},
   "outputs": [
    {
     "name": "stdout",
     "output_type": "stream",
     "text": [
      "['From nobody Man Sep 17 00:00:00 2001\\n', 'From: A (zzz)\\n', '      U\\n', '      Thor\\n', '      <a.u.thor@example.com> (Comment)\\n', 'Date: Fri, 9 Jun 2006 00:44:16 -0700\\n', 'Subject: [PATCH] a commit.\\n', '\\n', '+Fri Jun  9 00:44:13 PDT 2006\\n', '-Fri Jun  9 00:44:04 PDT 2006\\n', '@@ -1 +1 @@\\n', '+++ b/foo\\n', '--- a/foo\\n', 'index 9123cdc..918dcf8 100644\\n', 'diff --git a/foo b/foo\\n', '\\n', ' 1 files changed, 1 insertions(+), 1 deletions(-)\\n', ' foo |    2 +-\\n', '---\\n', '\\n', 'Here is a patch from A U Thor.\\n', '-- \\n', '1.4.0.g6f2b\\n', '\\n', 'From nobody Man Sep 17 00:00:00 2001\\n', 'From: A U Thor <a.u.thor@example.com>\\n', 'Date: Fri, 9 Jun 2006 00:44:16 -0700\\n', 'Subject: [PATCH] another patch\\n', '\\n', '-Fri Jun  9 00:44:04 PDT 2006\\n', '@@ -1 +1 @@\\n', '+++ b/foo\\n', '--- a/foo\\n', 'index 9123cdc..918dcf8 100644\\n', 'diff --git a/foo b/foo\\n', '\\n', ' 1 files changed, 1 insertions(+), 1 deletions(-)\\n', ' foo |    2 +-\\n', '---\\n', '\\n', 'Hope this helps.\\n', '\\n', '            \\n', '\\n', 'two truly blank and another full of spaces in between.\\n', 'Also, there are three blank lines after this paragraph,\\n', 'when the message is made into a commit log by stripspace,\\n', 'whitespaces at the end of the above line.  They are expected to be squashed\\n', 'stripped away here, along with the               \\t\\t   \\n', 'I have included an extra blank line above, but it does not have to be\\n', '\\n', '\\n', 'Hopefully this would fix the problem stated there.\\n', '\\n', 'Message-Id: <nitpicker.12121212@example.net>\\n', 'Subject: foo is too old\\n', 'From: Nit Picker <nit.picker@example.net>\\n', '\\n', 'message:\\n', 'Here is a patch from A U Thor.  This addresses the issue raised in the\\n', '+Fri Jun  9 00:44:13 PDT 2006\\n', '-- \\n', '1.4.0.g6f2b\\n']\n"
     ]
    }
   ],
   "source": [
    "# Set up the new_full_text to hold the backwards text\n",
    "new_full_text =[]\n",
    "# Create some empty lists to temporarily store the emails both forward and backward\n",
    "email_forw = []\n",
    "\n",
    "# Run through the emails and store them forwards in the email_forw temporarily and then print them back backwards\n",
    "for email in emails:\n",
    "    # First we need the number of rows in each email\n",
    "    length = len(emails[email])    # If the it is the last email (email = email numb the ending is 2 rows instead of three)\n",
    "    # So we will set up conditional ending range\n",
    "    if email == email_numb-1:\n",
    "        end = 2\n",
    "    else:\n",
    "        end = 3\n",
    "    \n",
    "\n",
    "    # Go through each row of the email and put it into the temporary list\n",
    "    for row in emails[email]:\n",
    "        email_forw.append (row)\n",
    "    # First append all the header lines of code\n",
    "    for counter in range (0, headers[email]):\n",
    "        new_full_text.append (emails[email][counter])\n",
    "        \n",
    "    # Next append all the remaining lines of code backwards except the last three lines\n",
    "    for counter2 in range (end + 1, length - headers[email] + 1):\n",
    "        back_count = (length - counter2) # This will get us the backwards count\n",
    "        new_full_text.append (emails[email][back_count])\n",
    "    # Next append the last three lines\n",
    "    if end == 3: new_full_text.append (emails[email][length - 3])\n",
    "    new_full_text.append (emails[email][length - 2])\n",
    "    new_full_text.append (emails[email][length - 1])\n",
    "    # Reset the temp email list\n",
    "    email_forw = []\n",
    "    \n",
    "print (new_full_text)"
   ]
  },
  {
   "cell_type": "code",
   "execution_count": 9,
   "metadata": {},
   "outputs": [],
   "source": [
    "# Export the new_full_text and save it\n",
    "new_text_file = open(out_path, \"w\")\n",
    "for row in new_full_text:\n",
    "    new_text_file.write (row)\n",
    "new_text_file.close()"
   ]
  },
  {
   "cell_type": "code",
   "execution_count": null,
   "metadata": {},
   "outputs": [],
   "source": []
  }
 ],
 "metadata": {
  "anaconda-cloud": {},
  "kernelspec": {
   "display_name": "Python 3",
   "language": "python",
   "name": "python3"
  },
  "language_info": {
   "codemirror_mode": {
    "name": "ipython",
    "version": 3
   },
   "file_extension": ".py",
   "mimetype": "text/x-python",
   "name": "python",
   "nbconvert_exporter": "python",
   "pygments_lexer": "ipython3",
   "version": "3.7.1"
  }
 },
 "nbformat": 4,
 "nbformat_minor": 2
}
